{
 "cells": [
  {
   "cell_type": "code",
   "execution_count": 1,
   "metadata": {},
   "outputs": [],
   "source": [
    "import numpy as np\n",
    "import matplotlib.pyplot as plt\n",
    "import matplotlib\n",
    "%matplotlib inline"
   ]
  },
  {
   "cell_type": "code",
   "execution_count": 2,
   "metadata": {},
   "outputs": [],
   "source": [
    "def track_eagle(make_figs=True):\n",
    "    long = np.random.randint(-10,10, size=3) \n",
    "    lat = np.random.randint(-10,10, size=3)  \n",
    "                                            \n",
    "    dist1 = None                             \n",
    "    dist2 = None\n",
    "    dist3 = None\n",
    "\n",
    "    dist_total = None                       \n",
    "    disp = None                              \n",
    "    alpha = 10**-6\n",
    "    theta =  None                            \n",
    "    theta = np.degrees(theta) \n",
    "    \n",
    "    plt.figure(figsize=(10,10))\n",
    "    plt.title('Philippine Eagle Flight Plotter')\n",
    "    plt.xlim(-30, 30)\n",
    "    plt.ylim(-30, 30)\n",
    "    plt.xlabel('Latitudinal Distance')\n",
    "    plt.ylabel('Longitudinal Distance')\n",
    "    plt.grid()\n",
    "    n = 2\n",
    "    \n",
    "\n",
    "    plt.quiver(0,0, dist1[0], dist1[1], \n",
    "               angles='xy', scale_units='xy',scale=1, color='red', \n",
    "               label='Trajectory 1: {:.2f}m.'.format(np.linalg.norm(dist1)))\n",
    "    plt.quiver(dist1[0], dist1[1], dist2[0], dist2[1], \n",
    "               angles='xy', scale_units='xy',scale=1, color='blue',\n",
    "              label='Trajectory 2: {:.2f}m.'.format(np.linalg.norm(dist2)))\n",
    "    plt.quiver(np.add(dist1[0],dist2[0]), np.add(dist1[1],dist2[1]),\n",
    "               dist3[0], dist3[1], angles='xy', scale_units='xy',scale=1, color='green',\n",
    "              label='Trajectory 3: {:.2f}m.'.format(np.linalg.norm(dist3)))\n",
    "    plt.quiver(0,0, dist_total[0], dist_total[1], \n",
    "               angles='xy', scale_units='xy',scale=1, color='orange',\n",
    "              label='Displacement: {:.2f}m. @ {:.2f}'.format(disp, theta))\n",
    "    plt.legend()    \n",
    "    if make_figs:\n",
    "        plt.savefig(f'LinAlg-Lab2-PH Eagle-{int(disp)}@{int(theta)}.png', dpi=300)\n",
    "    \n",
    "    plt.show()"
   ]
  },
  {
   "cell_type": "markdown",
   "metadata": {},
   "source": [
    "Sample parties using highest level\n",
    "<br>\n",
    "<br>['Charmander', 'Pidgey', 'Sandshrew', 'Rattata', 'Abra', 'Unown'] \n",
    "<br>['Charmander', 'Pidgey', 'Sandshrew', 'Rattata', 'Abra', 'Magikarp']\n",
    "<br>['Charmander', 'Pidgey', 'Sandshrew', 'Rattata', 'Abra', 'Feebas']"
   ]
  },
  {
   "cell_type": "code",
   "execution_count": null,
   "metadata": {},
   "outputs": [],
   "source": [
    "def eagle_kinematics(s, t):\n",
    "    req_shape = 4\n",
    "    v = np.zeros((req_shape-1,))\n",
    "    a = np.zeros((req_shape-2,))\n",
    "    t_vect = np.array([t**3, t**2, t, 1])\n",
    "    if s.shape == (req_shape,):\n",
    "        v = np.array([3*s[0],2*s[1], s[2]])\n",
    "        a = np.array([2*v[0],v[1]])\n",
    "        s_t = np.sum(np.multiply(s, t_vect))\n",
    "        v_t = np.sum(np.multiply(v, t_vect[1:]))\n",
    "        a_t = np.sum(np.multiply(a, t_vect[2:]))\n",
    "        \n",
    "    else:\n",
    "        print(f'Input displacement vector is not valid. Make sure that the vector shape is ({req_shape},)')\n",
    "    \n",
    "    return s_t, v_t, a_t"
   ]
  },
  {
   "cell_type": "code",
   "execution_count": null,
   "metadata": {},
   "outputs": [],
   "source": []
  }
 ],
 "metadata": {
  "kernelspec": {
   "display_name": "Python 3",
   "language": "python",
   "name": "python3"
  },
  "language_info": {
   "codemirror_mode": {
    "name": "ipython",
    "version": 3
   },
   "file_extension": ".py",
   "mimetype": "text/x-python",
   "name": "python",
   "nbconvert_exporter": "python",
   "pygments_lexer": "ipython3",
   "version": "3.8.3"
  }
 },
 "nbformat": 4,
 "nbformat_minor": 4
}
