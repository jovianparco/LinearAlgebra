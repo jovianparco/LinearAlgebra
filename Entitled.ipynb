{
 "cells": [
  {
   "cell_type": "code",
   "execution_count": 1,
   "metadata": {},
   "outputs": [],
   "source": [
    "import numpy as np\n",
    "import matplotlib.pyplot as plt\n",
    "import matplotlib\n",
    "%matplotlib inline"
   ]
  },
  {
   "cell_type": "markdown",
   "metadata": {},
   "source": [
    "$x=y$"
   ]
  },
  {
   "cell_type": "code",
   "execution_count": null,
   "metadata": {},
   "outputs": [],
   "source": [
    "def eagle_kinematics(s, t):\n",
    "    req_shape = 4\n",
    "    v = np.zeros((req_shape-1,)) #crate an array of zero with the size of three in one dimention\n",
    "    a = np.zeros((req_shape-2,))\n",
    "    t_vect = np.array([t**3, t**2, t, 1]) # \"**\" is a exponent funtion \n",
    "    if s.shape == (req_shape,): #confirm that ihas a array with a size of four\n",
    "        v = np.array([3*s[0],2*s[1], s[2]])\n",
    "        a = np.array([2*v[0],v[1]])\n",
    "        s_t = np.sum(np.multiply(s, t_vect))\n",
    "        v_t = np.sum(np.multiply(v, t_vect[1:]))\n",
    "        a_t = np.sum(np.multiply(a, t_vect[2:]))\n",
    "        \n",
    "    else:\n",
    "        print(f'Input displacement vector is not valid. Make sure that the vector shape is ({req_shape},)')\n",
    "    \n",
    "    return s_t, v_t, a_t\n"
   ]
  },
  {
   "cell_type": "code",
   "execution_count": 3,
   "metadata": {},
   "outputs": [
    {
     "data": {
      "text/plain": [
       "(28, 31, 26)"
      ]
     },
     "execution_count": 3,
     "metadata": {},
     "output_type": "execute_result"
    }
   ],
   "source": [
    "x = np.array([2,1,3,2])\n",
    "t = 2\n",
    "eagle_kinematics(x, t)\n"
   ]
  },
  {
   "cell_type": "code",
   "execution_count": 63,
   "metadata": {},
   "outputs": [
    {
     "name": "stdout",
     "output_type": "stream",
     "text": [
      "6\n"
     ]
    }
   ],
   "source": [
    "v = np.zeros((6))\n",
    "print(v.size)"
   ]
  }
 ],
 "metadata": {
  "kernelspec": {
   "display_name": "Python 3",
   "language": "python",
   "name": "python3"
  },
  "language_info": {
   "codemirror_mode": {
    "name": "ipython",
    "version": 3
   },
   "file_extension": ".py",
   "mimetype": "text/x-python",
   "name": "python",
   "nbconvert_exporter": "python",
   "pygments_lexer": "ipython3",
   "version": "3.8.3"
  }
 },
 "nbformat": 4,
 "nbformat_minor": 4
}
