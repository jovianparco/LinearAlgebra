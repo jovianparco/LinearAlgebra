{
 "cells": [
  {
   "cell_type": "code",
   "execution_count": 1,
   "metadata": {},
   "outputs": [],
   "source": [
    "import numpy as np\n",
    "import matplotlib.pyplot as plt\n",
    "import matplotlib\n",
    "%matplotlib inline"
   ]
  },
  {
   "cell_type": "markdown",
   "metadata": {},
   "source": [
    "$$Multiplier=x \\\\\n",
    "Vector=[\\hat{a},\\hat{b},\\hat{c},\\hat{d}]\\\\\n",
    "(\\hat{a}x^3)+(\\hat{b}x^2)+(\\hat{c}x)+(\\hat{d})=First Eq\\\\\n",
    "(3\\hat{a}x^2)+(2\\hat{b}x)+(\\hat{c})=Second Eq\\\\\n",
    "(6\\hat{a}x)+(2\\hat{b})=Third Eq$$"
   ]
  },
  {
   "cell_type": "code",
   "execution_count": 52,
   "metadata": {},
   "outputs": [
    {
     "name": "stdout",
     "output_type": "stream",
     "text": [
      "Need exaclty Four element to work\n"
     ]
    }
   ],
   "source": [
    "def eagle_kinematics(vector,multiplier):\n",
    "    if vector.shape == (4,):\n",
    "        first = np.sum(np.multiply([vector],[multiplier**3, multiplier**2, multiplier, 1]))\n",
    "        second = np.sum(np.multiply([3*vector[0],2*vector[1],vector[2]],[multiplier**2, multiplier, 1])) \n",
    "        third = np.sum(np.multiply([6*vector[0],2*vector[1]],[multiplier,1]))\n",
    "        return(first,second,third)\n",
    "    else:\n",
    "        print (\"Need exaclty Four element to work\")\n",
    "        \n",
    "        \n",
    "x = np.array([1,2,3])\n",
    "t = 2\n",
    "eagle_kinematics(x, t)\n",
    "\n"
   ]
  },
  {
   "cell_type": "code",
   "execution_count": null,
   "metadata": {},
   "outputs": [],
   "source": []
  }
 ],
 "metadata": {
  "kernelspec": {
   "display_name": "Python 3",
   "language": "python",
   "name": "python3"
  },
  "language_info": {
   "codemirror_mode": {
    "name": "ipython",
    "version": 3
   },
   "file_extension": ".py",
   "mimetype": "text/x-python",
   "name": "python",
   "nbconvert_exporter": "python",
   "pygments_lexer": "ipython3",
   "version": "3.8.3"
  }
 },
 "nbformat": 4,
 "nbformat_minor": 4
}
