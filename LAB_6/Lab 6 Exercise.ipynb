{
 "cells": [
  {
   "cell_type": "markdown",
   "metadata": {},
   "source": [
    "# Linear Algebra for CpE\n",
    "## Laboratory 6 : Matrices"
   ]
  },
  {
   "cell_type": "markdown",
   "metadata": {},
   "source": [
    "Now that you have a fundamental knowledge about vector representations, we'll try to look into greater dimensions."
   ]
  },
  {
   "cell_type": "markdown",
   "metadata": {},
   "source": [
    "### Objectives\n",
    "At the end of this activity you will be able to:\n",
    "1. Be familiar with matrices and their relation to linear equations.\n",
    "2. Perform basic matrix operations.\n",
    "3. Program and translate matrix equations and operations using Python."
   ]
  },
  {
   "cell_type": "markdown",
   "metadata": {},
   "source": [
    "# Discussion"
   ]
  },
  {
   "cell_type": "code",
   "execution_count": 1,
   "metadata": {},
   "outputs": [],
   "source": [
    "import numpy as np\n",
    "import matplotlib.pyplot as plt\n",
    "import scipy.linalg as la\n",
    "%matplotlib inline"
   ]
  },
  {
   "cell_type": "markdown",
   "metadata": {},
   "source": [
    "### Matrices"
   ]
  },
  {
   "cell_type": "markdown",
   "metadata": {},
   "source": [
    "The notation and use of matrices is probably one of the fundamentals of modern computing. Matrices are also handy representations of complex equations or multiple inter-related equations from 2-dimensional equations to even hundreds and thousands of them."
   ]
  },
  {
   "cell_type": "markdown",
   "metadata": {},
   "source": [
    "Let's say for example you have $A$ and $B$ as system of equation."
   ]
  },
  {
   "cell_type": "markdown",
   "metadata": {},
   "source": [
    "$$\n",
    "A = \\left\\{\n",
    "    \\begin{array}\\\\\n",
    "        x + y \\\\ \n",
    "        4x - 10y\n",
    "    \\end{array}\n",
    "\\right. \\\\\n",
    "B = \\left\\{\n",
    "    \\begin{array}\\\\\n",
    "        x+y+z \\\\ \n",
    "        3x -2y -z \\\\\n",
    "        -x + 4y +2z\n",
    "    \\end{array}\n",
    "\\right. $$"
   ]
  },
  {
   "cell_type": "markdown",
   "metadata": {},
   "source": [
    "We could see that $A$ is a system of 2 equations with 2 parameters. While $B$ is a system of 3 equations with 3 parameters. We can represent them as matrices as:"
   ]
  },
  {
   "cell_type": "markdown",
   "metadata": {},
   "source": [
    "$$\n",
    "A=\\begin{bmatrix} 1 & 1 \\\\ 4 & {-10}\\end{bmatrix} \\\\\n",
    "B=\\begin{bmatrix} 1 & 1 & 1 \\\\ 3 & -2 & -1 \\\\ -1 & 4 & 2\\end{bmatrix}\n",
    "$$"
   ]
  },
  {
   "cell_type": "markdown",
   "metadata": {},
   "source": [
    "So assuming that you already discussed the fundamental representation of matrices, their types, and operations. We'll proceed in doing them in here in Python."
   ]
  },
  {
   "cell_type": "markdown",
   "metadata": {},
   "source": [
    "### Declaring Matrices"
   ]
  },
  {
   "cell_type": "markdown",
   "metadata": {},
   "source": [
    "Just like our previous laboratory activity, we'll represent system of linear equations as a matrix. The entities or numbers in matrices are called the elements of a matrix. These elements are arranged and ordered in rows and columns which form the list/array-like structure of matrices. And just like arrays, these elements are indexed according to their position with respect to their rows and columns. This can be reprsented just like the equation below. Whereas $A$ is a matrix consisting of elements denoted by $a_{i,j}$. Denoted by $i$ is the number of rows in the matrix while $j$ stands for the number of columns.<br>\n",
    "Do note that the $size$ of a matrix is $i\\times j$."
   ]
  },
  {
   "cell_type": "markdown",
   "metadata": {},
   "source": [
    "$$A=\\begin{bmatrix}\n",
    "a_{(0,0)}&a_{(0,1)}&\\dots&a_{(0,j-1)}\\\\\n",
    "a_{(1,0)}&a_{(1,1)}&\\dots&a_{(1,j-1)}\\\\\n",
    "\\vdots&\\vdots&\\ddots&\\vdots&\\\\\n",
    "a_{(i-1,0)}&a_{(i-1,1)}&\\dots&a_{(i-1,j-1)}\n",
    "\\end{bmatrix}\n",
    "$$"
   ]
  },
  {
   "cell_type": "markdown",
   "metadata": {},
   "source": [
    "We already gone over some of the types of matrices as vectors but we'll further discuss them in this laboratory activity. Since you already know how to describe vectors using <b>shape</b>, <b>dimensions</b> and <b>size</b> attributes, we'll use them to analyze these matrices."
   ]
  },
  {
   "cell_type": "code",
   "execution_count": null,
   "metadata": {},
   "outputs": [],
   "source": [
    "## Since we'll keep on describing matrices. Let's make a function.\n",
    "def describe_mat(matrix):\n",
    "    print(f'Matrix:\\n{matrix}\\n\\nShape:\\t{matrix.shape}\\nRank:\\t{matrix.ndim}\\n')"
   ]
  },
  {
   "cell_type": "code",
   "execution_count": null,
   "metadata": {},
   "outputs": [],
   "source": [
    "## Declaring a 2 x 2 matrix\n",
    "A = np.array([\n",
    "    [1, 2],\n",
    "    [3, 1]\n",
    "])\n",
    "describe_mat(A)"
   ]
  },
  {
   "cell_type": "code",
   "execution_count": null,
   "metadata": {},
   "outputs": [],
   "source": [
    "G = np.array([\n",
    "    [1,1],\n",
    "    [2,2]\n",
    "])\n",
    "describe_mat(G)"
   ]
  },
  {
   "cell_type": "code",
   "execution_count": null,
   "metadata": {},
   "outputs": [],
   "source": [
    "## Declaring a 3 x 2 matrix\n",
    "B = np.array([\n",
    "    [8, 2],\n",
    "    [5, 4],\n",
    "    [1, 1]\n",
    "])\n",
    "describe_mat(B)"
   ]
  },
  {
   "cell_type": "code",
   "execution_count": null,
   "metadata": {},
   "outputs": [],
   "source": [
    "H = np.array([1,2,3,4,5])\n",
    "describe_mat(H)"
   ]
  },
  {
   "cell_type": "markdown",
   "metadata": {},
   "source": [
    "## Categorizing Matrices"
   ]
  },
  {
   "cell_type": "markdown",
   "metadata": {},
   "source": [
    "There are several ways of classifying matrices. Once could be according to their <b>shape</b> and another is according to their <b>element values</b>. We'll try to go through them."
   ]
  },
  {
   "cell_type": "markdown",
   "metadata": {},
   "source": [
    "### According to shape"
   ]
  },
  {
   "cell_type": "markdown",
   "metadata": {},
   "source": [
    "#### Row and Column Matrices"
   ]
  },
  {
   "cell_type": "markdown",
   "metadata": {},
   "source": [
    "Row and column matrices are common in vector and matrix computations. They can also represent row and column spaces of a bigger vector space. Row and column matrices are represented by a single column or single row. So with that being, the shape of row matrices would be $1 \\times j$ and column matrices would be $i \\times 1$."
   ]
  },
  {
   "cell_type": "code",
   "execution_count": null,
   "metadata": {},
   "outputs": [],
   "source": [
    "## Declaring a Row Matrix\n",
    "\n",
    "row_mat_1D = np.array([\n",
    "    1, 3, 2\n",
    "]) ## this is a 1-D Matrix with a shape of (3,), it's not really considered as a row matrix.\n",
    "row_mat_2D = np.array([\n",
    "    [1,2,3]\n",
    "]) ## this is a 2-D Matrix with a shape of (1,3)\n",
    "describe_mat(row_mat_1D)\n",
    "describe_mat(row_mat_2D)"
   ]
  },
  {
   "cell_type": "code",
   "execution_count": null,
   "metadata": {},
   "outputs": [],
   "source": [
    "## Declaring a Column Matrix\n",
    "col_mat = np.array([\n",
    "    [1],\n",
    "    [2],\n",
    "    [5]\n",
    "]) ## this is a 2-D Matrix with a shape of (3,1)\n",
    "describe_mat(col_mat)"
   ]
  },
  {
   "cell_type": "markdown",
   "metadata": {},
   "source": [
    "#### Square Matrices"
   ]
  },
  {
   "cell_type": "markdown",
   "metadata": {},
   "source": [
    "Square matrices are matrices that have the same row and column sizes. We could say a matrix is square if $i = j$. We can tweak our matrix descriptor function to determine square matrices."
   ]
  },
  {
   "cell_type": "code",
   "execution_count": null,
   "metadata": {},
   "outputs": [],
   "source": [
    "def describe_mat(matrix):\n",
    "    is_square = True if matrix.shape[0] == matrix.shape[1] else False \n",
    "    print(f'Matrix:\\n{matrix}\\n\\nShape:\\t{matrix.shape}\\nRank:\\t{matrix.ndim}\\nIs Square: {is_square}\\n')"
   ]
  },
  {
   "cell_type": "code",
   "execution_count": null,
   "metadata": {},
   "outputs": [],
   "source": [
    "square_mat = np.array([\n",
    "    [1,2,5],\n",
    "    [3,3,8],\n",
    "    [6,1,2]\n",
    "])\n",
    "\n",
    "non_square_mat = np.array([\n",
    "    [1,2,5],\n",
    "    [3,3,8]\n",
    "])\n",
    "describe_mat(square_mat)\n",
    "describe_mat(non_square_mat)"
   ]
  },
  {
   "cell_type": "markdown",
   "metadata": {},
   "source": [
    "### According to element values"
   ]
  },
  {
   "cell_type": "markdown",
   "metadata": {},
   "source": [
    "#### Null Matrix"
   ]
  },
  {
   "cell_type": "markdown",
   "metadata": {},
   "source": [
    "A Null Matrix is a matrix that has no elements. It is always a subspace of any vector or matrix."
   ]
  },
  {
   "cell_type": "code",
   "execution_count": null,
   "metadata": {},
   "outputs": [],
   "source": [
    "def describe_mat(matrix):\n",
    "    if matrix.size > 0:\n",
    "        is_square = True if matrix.shape[0] == matrix.shape[1] else False \n",
    "        print(f'Matrix:\\n{matrix}\\n\\nShape:\\t{matrix.shape}\\nRank:\\t{matrix.ndim}\\nIs Square: {is_square}\\n')\n",
    "    else:\n",
    "        print('Matrix is Null')"
   ]
  },
  {
   "cell_type": "code",
   "execution_count": null,
   "metadata": {},
   "outputs": [],
   "source": [
    "null_mat = np.array([])\n",
    "describe_mat(null_mat)"
   ]
  },
  {
   "cell_type": "markdown",
   "metadata": {},
   "source": [
    "#### Zero Matrix"
   ]
  },
  {
   "cell_type": "markdown",
   "metadata": {},
   "source": [
    "A zero matrix can be any rectangular matrix but with all elements having a value of 0."
   ]
  },
  {
   "cell_type": "code",
   "execution_count": null,
   "metadata": {},
   "outputs": [],
   "source": [
    "zero_mat_row = np.zeros((1,2))\n",
    "zero_mat_sqr = np.zeros((2,2))\n",
    "zero_mat_rct = np.zeros((3,2))\n",
    "\n",
    "print(f'Zero Row Matrix: \\n{zero_mat_row}')\n",
    "print(f'Zero Square Matrix: \\n{zero_mat_sqr}')\n",
    "print(f'Zero Rectangular Matrix: \\n{zero_mat_rct}')"
   ]
  },
  {
   "cell_type": "markdown",
   "metadata": {},
   "source": [
    "#### Ones Matrix"
   ]
  },
  {
   "cell_type": "markdown",
   "metadata": {},
   "source": [
    "A ones matrix, just like the zero matrix, can be any rectangular matrix but all of its elements are 1s instead of 0s."
   ]
  },
  {
   "cell_type": "code",
   "execution_count": null,
   "metadata": {},
   "outputs": [],
   "source": [
    "ones_mat_row = np.ones((1,2))\n",
    "ones_mat_sqr = np.ones((2,2))\n",
    "ones_mat_rct = np.ones((3,2))\n",
    "\n",
    "print(f'Ones Row Matrix: \\n{ones_mat_row}')\n",
    "print(f'Ones Square Matrix: \\n{ones_mat_sqr}')\n",
    "print(f'Ones Rectangular Matrix: \\n{ones_mat_rct}')"
   ]
  },
  {
   "cell_type": "markdown",
   "metadata": {},
   "source": [
    "#### Diagonal Matrix"
   ]
  },
  {
   "cell_type": "markdown",
   "metadata": {},
   "source": [
    "A diagonal matrix is a square matrix that has values only at the diagonal of the matrix. "
   ]
  },
  {
   "cell_type": "code",
   "execution_count": null,
   "metadata": {},
   "outputs": [],
   "source": [
    "np.array([\n",
    "    [2,0,0],\n",
    "    [0,3,0],\n",
    "    [0,0,5]\n",
    "])\n",
    "# a[1,1], a[2,2], a[3,3], ... a[n-1,n-1]"
   ]
  },
  {
   "cell_type": "code",
   "execution_count": null,
   "metadata": {},
   "outputs": [],
   "source": [
    "d = np.diag([2,3,5,7])\n",
    "np.diag(d).shape == d.shape[0] == d.shape[1]\n"
   ]
  },
  {
   "cell_type": "markdown",
   "metadata": {},
   "source": [
    "#### Identity Matrix"
   ]
  },
  {
   "cell_type": "markdown",
   "metadata": {},
   "source": [
    "An identity matrix is a special diagonal matrix in which the values at the diagonal are ones."
   ]
  },
  {
   "cell_type": "code",
   "execution_count": null,
   "metadata": {},
   "outputs": [],
   "source": [
    "np.eye(5)"
   ]
  },
  {
   "cell_type": "code",
   "execution_count": null,
   "metadata": {},
   "outputs": [],
   "source": [
    "np.identity(5)"
   ]
  },
  {
   "cell_type": "markdown",
   "metadata": {},
   "source": [
    "#### Upper Triangular Matrix"
   ]
  },
  {
   "cell_type": "markdown",
   "metadata": {},
   "source": [
    "An upper triangular matrix is a matrix that has no values below the diagonal. "
   ]
  },
  {
   "cell_type": "code",
   "execution_count": null,
   "metadata": {},
   "outputs": [],
   "source": [
    "np.array([\n",
    "    [1,2,3],\n",
    "    [0,3,1],\n",
    "    [0,0,5]\n",
    "])"
   ]
  },
  {
   "cell_type": "markdown",
   "metadata": {},
   "source": [
    "#### Lower Triangular Matrix"
   ]
  },
  {
   "cell_type": "markdown",
   "metadata": {},
   "source": [
    "A lower triangular matrix is a matrix that has no values above the diagonal."
   ]
  },
  {
   "cell_type": "code",
   "execution_count": null,
   "metadata": {},
   "outputs": [],
   "source": [
    "np.array([\n",
    "    [1,0,0],\n",
    "    [5,3,0],\n",
    "    [7,8,5]\n",
    "])"
   ]
  },
  {
   "cell_type": "markdown",
   "metadata": {},
   "source": [
    "## Practice"
   ]
  },
  {
   "cell_type": "markdown",
   "metadata": {},
   "source": [
    "1. Given the linear combination below, try to create a corresponding matrix representing it."
   ]
  },
  {
   "cell_type": "markdown",
   "metadata": {},
   "source": [
    "$$\\theta = 5x + 3y - z$$"
   ]
  },
  {
   "cell_type": "code",
   "execution_count": null,
   "metadata": {},
   "outputs": [],
   "source": [
    "theta = np.array([\n",
    "              [5,3,-1],\n",
    "])\n",
    "describe_mat(theta)"
   ]
  },
  {
   "cell_type": "markdown",
   "metadata": {},
   "source": [
    "2. Given the system of linear combinations below, try to encode it as a matrix. Also describe the matrix."
   ]
  },
  {
   "cell_type": "markdown",
   "metadata": {},
   "source": [
    "$$\n",
    "A = \\left\\{\\begin{array}\n",
    "5x_1 + 2x_2 +x_3\\\\\n",
    "4x_2 - x_3\\\\\n",
    "10x_3\n",
    "\\end{array}\\right.\n",
    "$$"
   ]
  },
  {
   "cell_type": "code",
   "execution_count": null,
   "metadata": {},
   "outputs": [],
   "source": [
    "number2_mat = np.array([\n",
    "             [1,2,1],\n",
    "             [0,4,-1],\n",
    "             [0,0,10]\n",
    "])\n",
    "describe_mat(number2_mat)"
   ]
  },
  {
   "cell_type": "markdown",
   "metadata": {},
   "source": [
    "3. Given the matrix below, express it as a linear combination in a markdown."
   ]
  },
  {
   "cell_type": "code",
   "execution_count": null,
   "metadata": {},
   "outputs": [],
   "source": [
    "G = np.array([\n",
    "    [1,7,8],\n",
    "    [2,2,2],\n",
    "    [4,6,7]\n",
    "])\n"
   ]
  },
  {
   "cell_type": "markdown",
   "metadata": {},
   "source": [
    "$$G = \n",
    "\\begin{bmatrix}1&7&8\\\\2&2&2\\\\4&6&7\n",
    "\\end{bmatrix}$$"
   ]
  },
  {
   "cell_type": "markdown",
   "metadata": {},
   "source": [
    "$$G=\\left\\{\\begin{array} 1g_1+7g_2+8g_3 \\\\2g_1+2g_2+2g_3\\\\4g_1+6g_2+7g_3\n",
    "\\end{array}\\right.$$"
   ]
  },
  {
   "cell_type": "markdown",
   "metadata": {},
   "source": [
    "4. Given the matrix below, display the output as a LaTeX makdown also express it as a system of linear combinations."
   ]
  },
  {
   "cell_type": "code",
   "execution_count": null,
   "metadata": {},
   "outputs": [],
   "source": [
    "H = np.tril(G)\n",
    "H"
   ]
  },
  {
   "cell_type": "markdown",
   "metadata": {},
   "source": [
    "$$\n",
    "H = \\left\\{\\begin{array}\n",
    "1x_1\\\\\n",
    "2x_1+ 2y_2\\\\\n",
    "4x_1+ 6y_2 +7z_3\n",
    "\\end{array}\\right.\n",
    "$$"
   ]
  },
  {
   "cell_type": "markdown",
   "metadata": {},
   "source": [
    "$$\\begin{equation*}\n",
    "H = \n",
    "\\begin{bmatrix}\n",
    "1 & 0 & 0 \\\\\n",
    "2 & 2 & 0 \\\\\n",
    "4 & 6 & 7\n",
    "\\end{bmatrix}\n",
    "\\end{equation*}$$"
   ]
  },
  {
   "cell_type": "markdown",
   "metadata": {},
   "source": [
    "# Matrix Algebra"
   ]
  },
  {
   "cell_type": "markdown",
   "metadata": {},
   "source": [
    "### Addition"
   ]
  },
  {
   "cell_type": "code",
   "execution_count": 69,
   "metadata": {},
   "outputs": [
    {
     "data": {
      "text/plain": [
       "array([[3, 4],\n",
       "       [2, 3],\n",
       "       [5, 2]])"
      ]
     },
     "execution_count": 69,
     "metadata": {},
     "output_type": "execute_result"
    }
   ],
   "source": [
    "A = np.array([\n",
    "    [1,2],\n",
    "    [2,3],\n",
    "    [4,1]\n",
    "])\n",
    "B = np.array([\n",
    "    [2,2],\n",
    "    [0,0],\n",
    "    [1,1]\n",
    "])\n",
    "A+B\n",
    "\n"
   ]
  },
  {
   "cell_type": "code",
   "execution_count": 70,
   "metadata": {},
   "outputs": [
    {
     "data": {
      "text/plain": [
       "array([[3, 4],\n",
       "       [4, 5],\n",
       "       [6, 3]])"
      ]
     },
     "execution_count": 70,
     "metadata": {},
     "output_type": "execute_result"
    }
   ],
   "source": [
    "2+A ##Broadcasting\n",
    "# 2*np.ones(A.shape)+A"
   ]
  },
  {
   "cell_type": "markdown",
   "metadata": {},
   "source": [
    "### Subtraction"
   ]
  },
  {
   "cell_type": "code",
   "execution_count": 71,
   "metadata": {},
   "outputs": [
    {
     "data": {
      "text/plain": [
       "array([[-1,  0],\n",
       "       [ 2,  3],\n",
       "       [ 3,  0]])"
      ]
     },
     "execution_count": 71,
     "metadata": {},
     "output_type": "execute_result"
    }
   ],
   "source": [
    "A-B"
   ]
  },
  {
   "cell_type": "code",
   "execution_count": 72,
   "metadata": {},
   "outputs": [
    {
     "data": {
      "text/plain": [
       "array([[ True,  True],\n",
       "       [ True,  True],\n",
       "       [ True,  True]])"
      ]
     },
     "execution_count": 72,
     "metadata": {},
     "output_type": "execute_result"
    }
   ],
   "source": [
    "3-B == 3*np.ones(B.shape)-B"
   ]
  },
  {
   "cell_type": "markdown",
   "metadata": {},
   "source": [
    "### Element-wise Multiplication"
   ]
  },
  {
   "cell_type": "code",
   "execution_count": null,
   "metadata": {},
   "outputs": [],
   "source": [
    "A*B\n",
    "np.multiply(A,B)"
   ]
  },
  {
   "cell_type": "code",
   "execution_count": null,
   "metadata": {},
   "outputs": [],
   "source": [
    "2*A"
   ]
  },
  {
   "cell_type": "code",
   "execution_count": null,
   "metadata": {},
   "outputs": [],
   "source": [
    "alpha=10**-10\n",
    "A/(alpha+B)"
   ]
  },
  {
   "cell_type": "code",
   "execution_count": null,
   "metadata": {},
   "outputs": [],
   "source": [
    "np.add(A,B)"
   ]
  },
  {
   "cell_type": "markdown",
   "metadata": {},
   "source": [
    "## Activity"
   ]
  },
  {
   "cell_type": "markdown",
   "metadata": {},
   "source": [
    "### Task 1"
   ]
  },
  {
   "cell_type": "markdown",
   "metadata": {},
   "source": [
    "Create a function named `mat_desc()` that througouhly describes a matrix, it should: <br>\n",
    "1. Displays the shape, size, and rank of the matrix. <br>\n",
    "2. Displays whether the matrix is square or non-square. <br>\n",
    "3. Displays whether the matrix is an empty matrix. <br>\n",
    "4. Displays if the matrix is an identity, ones, or zeros matrix <br>\n",
    "   \n",
    "Use 5 sample matrices in which their shapes are not lower than $(3,3)$.\n",
    "In your methodology, create a flowchart discuss the functions and methods you have done. Present your results in the results section showing the description of each matrix you have declared."
   ]
  },
  {
   "cell_type": "code",
   "execution_count": 2,
   "metadata": {},
   "outputs": [],
   "source": [
    "def mat_desc(matrix):\n",
    "    if matrix.size > 0:\n",
    "        if matrix.ndim == 2 and matrix.shape[0] == matrix.shape[1]:\n",
    "            is_zeros = True if np.sum(matrix) == 0 else False\n",
    "            is_ones = True if np.sum(matrix) == matrix.shape[0]*matrix.shape[1] else False \n",
    "            is_square = True if matrix.shape[0] == matrix.shape[1] else False \n",
    "            is_diagonal = True if np.allclose(matrix, np.diag(np.diag(matrix))) == True and is_zeros == False else False\n",
    "            is_upper_diagonal = True if np.allclose(matrix, np.triu(matrix)) == True and is_zeros == False else False\n",
    "            is_lower_diagonal = True if np.allclose(matrix, np.tril(matrix)) == True and is_zeros == False else False\n",
    "            print(\"Matrix:\\n\",matrix)\n",
    "            print(\"Shape:\",matrix.shape)\n",
    "            print(\"Rank: \",matrix.ndim)\n",
    "            print(\"Is Square:        \",is_square)\n",
    "            print(\"Is Ones:          \",is_ones)\n",
    "            print(\"Is Zeros:         \",is_zeros)\n",
    "            print(\"Is Diagonal:      \",is_diagonal)\n",
    "            print(\"Is Upper Diagonal:\",is_upper_diagonal)\n",
    "            print(\"Is Lower Diagonal:\",is_lower_diagonal)\n",
    "        else:\n",
    "            print(\"Matrix:\\n\",matrix)\n",
    "            print(\"Shape:\",matrix.shape)\n",
    "            print(\"Rank: \",matrix.ndim)\n",
    "            print(\"Is Square:         False\")\n",
    "            print(\"Is Ones:           False \")\n",
    "            print(\"Is Zeros:          False\")\n",
    "            print(\"Is Diagonal:       False\")\n",
    "            print(\"Is Upper Diagonal: False\")\n",
    "            print(\"Is Lower Diagonal: False\")\n",
    "    else:\n",
    "        print('Matrix is Null')"
   ]
  },
  {
   "cell_type": "code",
   "execution_count": 3,
   "metadata": {},
   "outputs": [],
   "source": [
    "A = np.array([\n",
    "    [1,1,1,1],\n",
    "    [0,1,1,1],\n",
    "    [0,0,1,1],\n",
    "    [0,0,0,1]\n",
    "])\n",
    "B = np.zeros((4,4))\n",
    "C = np.array([\n",
    "    [1,0,0,0],\n",
    "    [1,2,0,0],\n",
    "    [1,2,3,0],\n",
    "    [1,2,3,4]\n",
    "])\n",
    "D = np.array([\n",
    "    [1,2,3,4,5],\n",
    "    [1,2,3,4,5],\n",
    "    [1,2,3,4,5]\n",
    "])\n",
    "E = np.array([\n",
    "])"
   ]
  },
  {
   "cell_type": "code",
   "execution_count": 10,
   "metadata": {},
   "outputs": [
    {
     "name": "stdout",
     "output_type": "stream",
     "text": [
      "Matrix is Null\n"
     ]
    }
   ],
   "source": [
    "mat_desc(E)"
   ]
  },
  {
   "cell_type": "markdown",
   "metadata": {},
   "source": [
    "### Task 2"
   ]
  },
  {
   "cell_type": "markdown",
   "metadata": {},
   "source": [
    "Create a function named `mat_operations()` that takes in two matrices or scalars a input parameters it should:<br>\n",
    " 1. Display the description of each matrix, if the parameter is a scalar it tells that it is a scalar rather than describing it as a matrix.\n",
    " 2. Determines if the matrices are viable for operation and returns your own error message if they are not viable.\n",
    " 3. Returns the sum of the matrices.\n",
    " 4. Returns the differen of the matrices.\n",
    " 5. Returns the element-wise multiplication of the matrices.\n",
    " 6. Returns the element-wise division of the matrices.\n",
    "\n",
    "Use 5 sample matrices in which their shapes are not lower than $(3,3)$.\n",
    "In your methodology, create a flowchart discuss the functions and methods you have done. Present your results in the results section showing the description of each matrix you have declared."
   ]
  },
  {
   "cell_type": "code",
   "execution_count": 14,
   "metadata": {},
   "outputs": [],
   "source": [
    "def mat_operations(num1,num2):\n",
    "    if isinstance(num1,np.ndarray) and isinstance(num2,np.ndarray):\n",
    "        print(f\"Shape of the First Argument:{num1.shape}\\nShape of the Second Argument:{num2.shape}\")\n",
    "        print(f\"\\nRank of the First Argument: {num1.ndim}\\nRank of the Second Argument: {num2.ndim}\")\n",
    "        \n",
    "        if num1.shape == num2.shape:\n",
    "            print(\"\\nSum of Matrices: \\n\",num1+num2)\n",
    "            print(\"\\nProduct of Matrices: \\n\",num1-num2)\n",
    "            print(\"\\nMultiplication of Matrices: \\n\",num1*num2)\n",
    "            print(\"\\nDivision of Matrices: \\n\",num1/(num2+10**-10))\n",
    "        else: print(f\"\\nMatrix Operations are Impossible because Matrix Shapes are Not Equal. \")\n",
    "    else:\n",
    "        print(\"One or Two arument is scalar\")\n",
    "        print(\"\\nBrodcasting Sum of Matrices: \\n\",num1+num2)\n",
    "        print(\"\\nBrodcasting Product of Matrices: \\n\",num1-num2)\n",
    "        print(\"\\nScalar Multiplication of Matrices: \\n\",num1*num2)\n",
    "        print(\"\\nBrodcasting Division of Matrices: \\n\",num1/(num2+10**-10))\n",
    "        "
   ]
  },
  {
   "cell_type": "code",
   "execution_count": 15,
   "metadata": {},
   "outputs": [],
   "source": [
    "A = np.ones((4,4))\n",
    "B = np.zeros((4,4))\n",
    "C = np.array([\n",
    "    [1,2,3,4],\n",
    "    [1,2,3,4],\n",
    "    [1,2,3,4],\n",
    "    [1,2,3,4]\n",
    "])\n",
    "D = np.array([\n",
    "    [1,2,3,4,5],\n",
    "    [1,2,3,4,5],\n",
    "    [1,2,3,4,5]\n",
    "])\n",
    "E = np.ones((69,420,69))\n",
    "F = 1"
   ]
  },
  {
   "cell_type": "code",
   "execution_count": 18,
   "metadata": {},
   "outputs": [
    {
     "name": "stdout",
     "output_type": "stream",
     "text": [
      "One or Two arument is scalar\n",
      "\n",
      "Brodcasting Sum of Matrices: \n",
      " [[2 3 4 5]\n",
      " [2 3 4 5]\n",
      " [2 3 4 5]\n",
      " [2 3 4 5]]\n",
      "\n",
      "Brodcasting Product of Matrices: \n",
      " [[ 0 -1 -2 -3]\n",
      " [ 0 -1 -2 -3]\n",
      " [ 0 -1 -2 -3]\n",
      " [ 0 -1 -2 -3]]\n",
      "\n",
      "Scalar Multiplication of Matrices: \n",
      " [[1 2 3 4]\n",
      " [1 2 3 4]\n",
      " [1 2 3 4]\n",
      " [1 2 3 4]]\n",
      "\n",
      "Brodcasting Division of Matrices: \n",
      " [[1.         0.5        0.33333333 0.25      ]\n",
      " [1.         0.5        0.33333333 0.25      ]\n",
      " [1.         0.5        0.33333333 0.25      ]\n",
      " [1.         0.5        0.33333333 0.25      ]]\n"
     ]
    }
   ],
   "source": [
    "mat_operations(F,C)"
   ]
  },
  {
   "cell_type": "markdown",
   "metadata": {},
   "source": [
    "## Conclusion"
   ]
  },
  {
   "cell_type": "markdown",
   "metadata": {},
   "source": [
    "For your conclusion synthesize the concept and application of the laboratory. Briefly discuss what you have learned and achieved in this activity. Also answer the question: \"how can matrix operations solve problems in agriculture?\"."
   ]
  }
 ],
 "metadata": {
  "kernelspec": {
   "display_name": "Python 3",
   "language": "python",
   "name": "python3"
  },
  "language_info": {
   "codemirror_mode": {
    "name": "ipython",
    "version": 3
   },
   "file_extension": ".py",
   "mimetype": "text/x-python",
   "name": "python",
   "nbconvert_exporter": "python",
   "pygments_lexer": "ipython3",
   "version": "3.8.3"
  }
 },
 "nbformat": 4,
 "nbformat_minor": 4
}
