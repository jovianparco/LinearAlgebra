{
 "cells": [
  {
   "cell_type": "markdown",
   "metadata": {},
   "source": [
    "# Linear Algebra (CpE210A)\n",
    "## Laboratory 1: Getting acquainted with Python"
   ]
  },
  {
   "cell_type": "markdown",
   "metadata": {},
   "source": [
    "Coded and submitted by:\n",
    "<br>Parco, Jovian Asher G,\n",
    "<br>58010"
   ]
  },
  {
   "cell_type": "code",
   "execution_count": 2,
   "metadata": {},
   "outputs": [],
   "source": [
    "party = ['Charmander', 'Pidgey', 'Sandshrew', 'Rattata', 'Abra']\n",
    "levels = [15, 11, 18, 5, 14]"
   ]
  },
  {
   "cell_type": "code",
   "execution_count": 3,
   "metadata": {},
   "outputs": [
    {
     "name": "stdout",
     "output_type": "stream",
     "text": [
      "Charmander at level 15\n",
      "Pidgey at level 11\n",
      "Sandshrew at level 18\n",
      "Rattata at level 5\n",
      "Abra at level 14\n"
     ]
    }
   ],
   "source": [
    "for pokemon, level in zip(party, levels): print(f\"{pokemon} at level {level}\")"
   ]
  },
  {
   "cell_type": "code",
   "execution_count": 4,
   "metadata": {},
   "outputs": [],
   "source": [
    "#zip() is an iterator of tuples where the first item in each passed iterator is paired together\n",
    "#source https://docs.python.org/3.3/library/functions.html#zip"
   ]
  },
  {
   "cell_type": "code",
   "execution_count": 5,
   "metadata": {},
   "outputs": [],
   "source": [
    "reserves = [\n",
    "    ('Onix',10),\n",
    "    ('Slowpoke',18),\n",
    "    ('Dialga', 2),\n",
    "    ('Magikarp', 32),\n",
    "    ('Feebas', 22),\n",
    "    ('Swablu', 19),\n",
    "    ('Regigigas', 3),\n",
    "    ('Unown', 50)\n",
    "]\n"
   ]
  },
  {
   "cell_type": "code",
   "execution_count": 6,
   "metadata": {},
   "outputs": [
    {
     "name": "stdout",
     "output_type": "stream",
     "text": [
      "('Unown', 'Magikarp', 'Feebas')\n"
     ]
    }
   ],
   "source": [
    "reserves=sorted(reserves, key=lambda lvl: lvl[1], reverse=True) ; picks=reserves[0][0],reserves[1][0],reserves[2][0] ;reserves.append((\"Meowth\",0))\n",
    "print(picks)\n"
   ]
  },
  {
   "cell_type": "code",
   "execution_count": 15,
   "metadata": {},
   "outputs": [],
   "source": [
    "def create_party(party,candidates):\n",
    "    count=0\n",
    "    suggested_parties = []\n",
    "    while (count <= 2):\n",
    "        party.pop()\n",
    "        party.append(candidates[count])\n",
    "        suggested_parties.append(party[:])\n",
    "        count += 1\n",
    "    return suggested_parties [:] # You can choose what party you want "
   ]
  },
  {
   "cell_type": "code",
   "execution_count": 16,
   "metadata": {},
   "outputs": [
    {
     "data": {
      "text/plain": [
       "[['Charmander', 'Pidgey', 'Sandshrew', 'Rattata', 'Unown'],\n",
       " ['Charmander', 'Pidgey', 'Sandshrew', 'Rattata', 'Magikarp'],\n",
       " ['Charmander', 'Pidgey', 'Sandshrew', 'Rattata', 'Feebas']]"
      ]
     },
     "execution_count": 16,
     "metadata": {},
     "output_type": "execute_result"
    }
   ],
   "source": [
    "create_party(party,picks)"
   ]
  }
 ],
 "metadata": {
  "kernelspec": {
   "display_name": "Python 3",
   "language": "python",
   "name": "python3"
  },
  "language_info": {
   "codemirror_mode": {
    "name": "ipython",
    "version": 3
   },
   "file_extension": ".py",
   "mimetype": "text/x-python",
   "name": "python",
   "nbconvert_exporter": "python",
   "pygments_lexer": "ipython3",
   "version": "3.8.3"
  }
 },
 "nbformat": 4,
 "nbformat_minor": 4
}
