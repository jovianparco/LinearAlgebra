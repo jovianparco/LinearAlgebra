{
 "cells": [
  {
   "cell_type": "markdown",
   "metadata": {},
   "source": [
    "# Linear Algebra (CpE210A)\n",
    "## Laboratory 1: Getting acquainted with Python"
   ]
  },
  {
   "cell_type": "markdown",
   "metadata": {},
   "source": [
    "Coded and submitted by:\n",
    "<br>Parco, Jovian Asher G,\n",
    "<br>58010"
   ]
  },
  {
   "cell_type": "markdown",
   "metadata": {},
   "source": [
    "## Part 1"
   ]
  },
  {
   "cell_type": "code",
   "execution_count": null,
   "metadata": {},
   "outputs": [],
   "source": [
    "party = ['Charmander', 'Pidgey', 'Sandshrew', 'Rattata', 'Abra']\n",
    "levels = [15, 11, 18, 5, 14]"
   ]
  },
  {
   "cell_type": "code",
   "execution_count": 6,
   "metadata": {},
   "outputs": [
    {
     "name": "stdout",
     "output_type": "stream",
     "text": [
      "Charmander at level 15\n",
      "Pidgey at level 11\n",
      "Sandshrew at level 18\n",
      "Rattata at level 5\n",
      "Abra at level 14\n"
     ]
    }
   ],
   "source": [
    "for pokemon, level in zip(party, levels): print(f\"{pokemon} at level {level}\") #Using the zip() and for loop to created an object with each element is conected "
   ]
  },
  {
   "cell_type": "markdown",
   "metadata": {},
   "source": [
    "## Part 2"
   ]
  },
  {
   "cell_type": "code",
   "execution_count": 7,
   "metadata": {},
   "outputs": [],
   "source": [
    "reserves = [\n",
    "    ('Onix',10),\n",
    "    ('Slowpoke',18),\n",
    "    ('Dialga', 2),\n",
    "    ('Magikarp', 32),\n",
    "    ('Feebas', 22),\n",
    "    ('Swablu', 19),\n",
    "    ('Regigigas', 3),\n",
    "    ('Unown', 50)\n",
    "]\n"
   ]
  },
  {
   "cell_type": "code",
   "execution_count": 8,
   "metadata": {},
   "outputs": [
    {
     "name": "stdout",
     "output_type": "stream",
     "text": [
      "('Unown', 'Magikarp', 'Feebas')\n"
     ]
    }
   ],
   "source": [
    "reserves=sorted(reserves, key=lambda lvl: lvl[1], reverse=True); picks=reserves[0][0],reserves[1][0],reserves[2][0]; reserves.append((\"Meowth\",0)) \n",
    "print(picks)\n",
    "#Sorted() function creates a list in a sorted wat and append()function is used to add new element on the list "
   ]
  },
  {
   "cell_type": "markdown",
   "metadata": {},
   "source": [
    "## Part 3"
   ]
  },
  {
   "cell_type": "code",
   "execution_count": 12,
   "metadata": {},
   "outputs": [],
   "source": [
    "def create_party(party,candidates):\n",
    "    suggested_parties = []                    # Creating a empty list\n",
    "    party.append(candidates[0])               # Adding the first element in candidates to the party list\n",
    "    suggested_parties.append(party[:])        # Adding the party list as a tuple in suggestetd_parties list \n",
    "    party.pop()                               # removing the last element in the party list/resetting the list\n",
    "    party.append(candidates[1])               # Adding the second element in candidates to the party list\n",
    "    suggested_parties.append(party[:])        # Adding the party list as a tuple in suggestetd_parties list \n",
    "    party.pop()                               # removing the last element in the party list/resetting the list\n",
    "    party.append(candidates[2])               # Adding the third element in candidates to the party list\n",
    "    suggested_parties.append(party[:])        # Adding the party list as a tuple in suggestetd_parties list \n",
    "    party.pop()                               # removing the last element in the party list/resetting the list\n",
    "    return suggested_parties [1]              # You can choose what party you want "
   ]
  },
  {
   "cell_type": "code",
   "execution_count": 13,
   "metadata": {},
   "outputs": [
    {
     "data": {
      "text/plain": [
       "['Charmander', 'Pidgey', 'Sandshrew', 'Rattata', 'Abra', 'Magikarp']"
      ]
     },
     "execution_count": 13,
     "metadata": {},
     "output_type": "execute_result"
    }
   ],
   "source": [
    "create_party(party,picks)"
   ]
  }
 ],
 "metadata": {
  "kernelspec": {
   "display_name": "Python 3",
   "language": "python",
   "name": "python3"
  },
  "language_info": {
   "codemirror_mode": {
    "name": "ipython",
    "version": 3
   },
   "file_extension": ".py",
   "mimetype": "text/x-python",
   "name": "python",
   "nbconvert_exporter": "python",
   "pygments_lexer": "ipython3",
   "version": "3.8.3"
  }
 },
 "nbformat": 4,
 "nbformat_minor": 4
}
