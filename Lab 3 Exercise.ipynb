{
 "cells": [
  {
   "cell_type": "markdown",
   "metadata": {},
   "source": [
    "# Linear Algebra for CpE\n",
    "## Laboratory 3 : Linear Combination and Vector Spaces"
   ]
  },
  {
   "cell_type": "markdown",
   "metadata": {},
   "source": [
    "Now that you have a fundamental knowledge about linear combination, we'll try to visualize it using scientific programming."
   ]
  },
  {
   "cell_type": "markdown",
   "metadata": {},
   "source": [
    "### Objectives\n",
    "At the end of this activity you will be able to:\n",
    "1. Be familiar with representing linear combinations in the 2-dimensional plane.\n",
    "2. Visualize spans using vector fields in Python.\n",
    "3. Perform vector fields operations using scientific programming."
   ]
  },
  {
   "cell_type": "markdown",
   "metadata": {},
   "source": [
    "## Discussion"
   ]
  },
  {
   "cell_type": "code",
   "execution_count": 2,
   "metadata": {},
   "outputs": [],
   "source": [
    "import numpy as np\n",
    "import matplotlib.pyplot as plt\n",
    "%matplotlib inline"
   ]
  },
  {
   "cell_type": "markdown",
   "metadata": {},
   "source": [
    "## Linear Combination"
   ]
  },
  {
   "cell_type": "markdown",
   "metadata": {},
   "source": [
    "It is said that a linear combination is the combination of linear scaling and addition of a vector its bases/components"
   ]
  },
  {
   "cell_type": "markdown",
   "metadata": {},
   "source": [
    "We will try to visualize the vectors and their linear combinations by plotting a sample of real number values for the scalars for the vectors. Let's first try the vectors below:"
   ]
  },
  {
   "cell_type": "markdown",
   "metadata": {},
   "source": [
    "$$X = \\begin{bmatrix} 2\\\\5 \\\\\\end{bmatrix} , Y = \\begin{bmatrix} 7\\\\9 \\\\\\end{bmatrix} $$"
   ]
  },
  {
   "cell_type": "code",
   "execution_count": 3,
   "metadata": {},
   "outputs": [],
   "source": [
    "vectX =  np.array([2,5])\n",
    "vectY =  np.array([7,9])"
   ]
  },
  {
   "cell_type": "markdown",
   "metadata": {},
   "source": [
    "#### Span of single vectors"
   ]
  },
  {
   "cell_type": "markdown",
   "metadata": {},
   "source": [
    "As discussed in the lecture, the span of individual vectors can be represented by a line span. Let's take vector $X$ as an example."
   ]
  },
  {
   "cell_type": "markdown",
   "metadata": {},
   "source": [
    "$$X = c\\cdot \\begin{bmatrix} 2\\\\5 \\\\\\end{bmatrix} $$"
   ]
  },
  {
   "cell_type": "code",
   "execution_count": 114,
   "metadata": {},
   "outputs": [
    {
     "data": {
      "image/png": "[encoded data removed]",
      "text/plain": [
       "<Figure size 432x288 with 1 Axes>"
      ]
     },
     "metadata": {
      "needs_background": "light"
     },
     "output_type": "display_data"
    }
   ],
   "source": [
    "c = np.arange(-10,10,0.25)\n",
    "\n",
    "plt.scatter(c*vectX[0],c*vectX[1])\n",
    "\n",
    "\n",
    "plt.xlim(-10,10)\n",
    "plt.ylim(-10,10)\n",
    "plt.axhline(y=0, color='k')\n",
    "plt.axvline(x=0, color='k')\n",
    "plt.grid()\n",
    "plt.show()"
   ]
  },
  {
   "cell_type": "markdown",
   "metadata": {},
   "source": [
    "### Span of a linear combination of vectors"
   ]
  },
  {
   "cell_type": "markdown",
   "metadata": {},
   "source": [
    "So what if we are to plot the span of a linear combination of vectors? We can visualize as a plane on the 2-dimensional coordinate system. Let's take the span of the linear combination below:"
   ]
  },
  {
   "cell_type": "markdown",
   "metadata": {},
   "source": [
    "$$S = \\begin{Bmatrix} c_1 \\cdot\\begin{bmatrix} 1\\\\0 \\\\\\end{bmatrix}, \n",
    "c_2 \\cdot \\begin{bmatrix} 1\\\\-1 \\\\\\end{bmatrix}\\end{Bmatrix} $$"
   ]
  },
  {
   "cell_type": "code",
   "execution_count": 4,
   "metadata": {},
   "outputs": [
    {
     "data": {
      "image/png": "[encoded data removed]",
      "text/plain": [
       "<Figure size 432x288 with 1 Axes>"
      ]
     },
     "metadata": {
      "needs_background": "light"
     },
     "output_type": "display_data"
    }
   ],
   "source": [
    "vectA = np.array([1,0])\n",
    "vectB = np.array([1,-1])\n",
    "R = np.arange(-10,10,1)\n",
    "c1, c2 = np.meshgrid(R,R)\n",
    "vectR = vectA + vectB\n",
    "spanRx = c1*vectA[0] + c2*vectB[0]\n",
    "spanRy = c1*vectA[1] + c2*vectB[1]\n",
    "# plt.scatter(R*vectA[0],R*vectA[1])\n",
    "plt.scatter(spanRx,spanRy, s=5, alpha=0.75)\n",
    "\n",
    "plt.axhline(y=0, color='k')\n",
    "plt.axvline(x=0, color='k')\n",
    "plt.grid()\n",
    "plt.show()"
   ]
  },
  {
   "cell_type": "markdown",
   "metadata": {},
   "source": [
    "Take note that if vectors are seen to be as a 2-dimensional span we can say it has a Rank of 2 or $\\mathbb{R}^2$. But if the span of the linear combination of vectors are seen to be like a line, they are said to be <b> linearly dependent </b> and they have a rank of 1 or $\\mathbb{R}^1$."
   ]
  },
  {
   "cell_type": "markdown",
   "metadata": {},
   "source": [
    "# Activity"
   ]
  },
  {
   "cell_type": "markdown",
   "metadata": {},
   "source": [
    "### Task 1"
   ]
  },
  {
   "cell_type": "markdown",
   "metadata": {},
   "source": [
    "Try different linear combinations using different scalar values. In your methodology discuss the different functions that you have used, the  linear equation and vector form of the linear combination, and the flowchart for declaring and displaying linear combinations. Please make sure that your flowchart has only few words and not putting the entire code as it is bad practice. In your results, display and discuss the linear combination visualization you made. You should use the cells below for displaying the equation markdows using LaTeX and your code."
   ]
  },
  {
   "cell_type": "markdown",
   "metadata": {},
   "source": [
    "$$\n",
    "\\overrightarrow{z}=3\\cdot C_1\\;; C_1=\\begin{bmatrix}1\\\\ 1\\end{bmatrix}$$"
   ]
  },
  {
   "cell_type": "markdown",
   "metadata": {},
   "source": [
    "$$\\overrightarrow{z}=3\\cdot\\begin{bmatrix}1\\\\ 1\\end{bmatrix}$$"
   ]
  },
  {
   "cell_type": "code",
   "execution_count": 116,
   "metadata": {},
   "outputs": [
    {
     "data": {
      "image/png": "[encoded data removed]",
      "text/plain": [
       "<Figure size 432x288 with 1 Axes>"
      ]
     },
     "metadata": {
      "needs_background": "light"
     },
     "output_type": "display_data"
    }
   ],
   "source": [
    "z = 3*np.array([1,1])                           # Vector total\n",
    "\n",
    "Range = np.arange(-10,10,.25)                   # Range\n",
    "\n",
    "plt.scatter(Range*z[0],Range*z[1],c=\"#ff1a75\")  # Ploting\n",
    "\n",
    "plt.xlim(-10,10)                                # Plot x-limit\n",
    "plt.ylim(-10,10)                                # Plot y-limit\n",
    "\n",
    "plt.axhline(y=0, color='k')                     # Adds horizontal line\n",
    "plt.axvline(x=0, color='k')                     # Adds vertical line\n",
    "\n",
    "plt.grid()                                      # Adds grid to the plot\n",
    "plt.show()                                      # Runs the plot "
   ]
  },
  {
   "cell_type": "markdown",
   "metadata": {},
   "source": [
    "### Task 2"
   ]
  },
  {
   "cell_type": "markdown",
   "metadata": {},
   "source": [
    "Try making three unque spans using different linear combinations . In your methodology discuss the different functions that you have used, the  linear equations and vector form of span, and the flowchart for declaring and displaying span. Please make sure that your flowchart has only few words and not putting the entire code as it is bad practice. In your results, display and discuss the span visualization you made. You should use the cells below for displaying the equation markdows using LaTeX and your code."
   ]
  },
  {
   "cell_type": "markdown",
   "metadata": {},
   "source": [
    "$$S = C_1\\cdot V_x + C_2\\cdot V_y \\;; V_x=\\begin{bmatrix}1\\\\ 0\\end{bmatrix},V_y=\\begin{bmatrix}0\\\\ 1\\end{bmatrix}$$"
   ]
  },
  {
   "cell_type": "markdown",
   "metadata": {},
   "source": [
    "$$S = \\begin{Bmatrix} C_1 \\cdot\\begin{bmatrix} 1\\\\0 \\\\\\end{bmatrix}, \n",
    "C_1 \\cdot \\begin{bmatrix} 0\\\\1 \\\\\\end{bmatrix}\\end{Bmatrix} $$"
   ]
  },
  {
   "cell_type": "code",
   "execution_count": 117,
   "metadata": {},
   "outputs": [
    {
     "data": {
      "image/png": "[encoded data removed]",
      "text/plain": [
       "<Figure size 432x288 with 1 Axes>"
      ]
     },
     "metadata": {
      "needs_background": "light"
     },
     "output_type": "display_data"
    }
   ],
   "source": [
    "vectx = np.array([1,0])                                    # Vector values\n",
    "vecty = np.array([0,1])                                    # Vector Values\n",
    "\n",
    "R = np.arange(-10,10,1)                                    # Creates a range from -10 to 10 with a step of 1\n",
    "c1, c2 = np.meshgrid(R,R)                                  # Creates a values with in the set range\n",
    "spanRx = c1*vectx[0] + c2*vecty[0]                         # Solving EQ\n",
    "spanRy = c1*vectx[1] + c2*vecty[1]\n",
    "\n",
    "plt.scatter(spanRx,spanRy, c=\"#ff1a75\", s=5, alpha=0.75)   # Plotting\n",
    "\n",
    "plt.axhline(y=0, color='k')                                # Adds horizontal line\n",
    "plt.axvline(x=0, color='k')                                # Adds vertical line\n",
    "plt.grid()                                                 # Adds grid to the plot\n",
    "plt.show()                                                 # Runs plot"
   ]
  },
  {
   "cell_type": "markdown",
   "metadata": {},
   "source": [
    "$$S = C_1\\cdot V_x + C_2\\cdot V_y \\;; V_x=\\begin{bmatrix}2\\\\ 0\\end{bmatrix},V_y=\\begin{bmatrix}3\\\\ 2\\end{bmatrix}$$"
   ]
  },
  {
   "cell_type": "markdown",
   "metadata": {},
   "source": [
    "$$S = \\begin{Bmatrix} C_1 \\cdot\\begin{bmatrix} 2\\\\0 \\\\\\end{bmatrix}, \n",
    "C_1 \\cdot \\begin{bmatrix} 3\\\\2 \\\\\\end{bmatrix}\\end{Bmatrix} $$"
   ]
  },
  {
   "cell_type": "code",
   "execution_count": 118,
   "metadata": {},
   "outputs": [
    {
     "data": {
      "image/png": "[encoded data removed]",
      "text/plain": [
       "<Figure size 432x288 with 1 Axes>"
      ]
     },
     "metadata": {
      "needs_background": "light"
     },
     "output_type": "display_data"
    }
   ],
   "source": [
    "vectx = np.array([2,0])                                    # Vector values\n",
    "vecty = np.array([3,2])                                    # Vector Values\n",
    "\n",
    "R = np.arange(-10,10,1)                                    # Creates a range from -10 to 10 with a step of 1\n",
    "c1, c2 = np.meshgrid(R,R)                                  # Creates a values with in the set range\n",
    "spanRx = c1*vectx[0] + c2*vecty[0]                         # Solving EQ\n",
    "spanRy = c1*vectx[1] + c2*vecty[1]\n",
    "\n",
    "plt.scatter(spanRx,spanRy, c=\"#ff1a75\", s=5, alpha=0.75)   # Plotting\n",
    "\n",
    "plt.axhline(y=0, color='k')                                # Adds horizontal line\n",
    "plt.axvline(x=0, color='k')                                # Adds vertical line\n",
    "plt.grid()                                                 # Adds grid to the plot\n",
    "plt.show()                                                 # Runs plot"
   ]
  },
  {
   "cell_type": "markdown",
   "metadata": {},
   "source": [
    "$$S = C_1\\cdot V_x + C_2\\cdot V_y \\;; V_x=\\begin{bmatrix}3\\\\ 6\\end{bmatrix},V_y=\\begin{bmatrix}1\\\\ 2\\end{bmatrix}$$"
   ]
  },
  {
   "cell_type": "markdown",
   "metadata": {},
   "source": [
    "$$S = \\begin{Bmatrix} C_1 \\cdot\\begin{bmatrix} 3\\\\6 \\\\\\end{bmatrix}, \n",
    "C_1 \\cdot \\begin{bmatrix} 1\\\\2 \\\\\\end{bmatrix}\\end{Bmatrix} $$"
   ]
  },
  {
   "cell_type": "code",
   "execution_count": 112,
   "metadata": {},
   "outputs": [
    {
     "data": {
      "image/png": "[encoded data removed]",
      "text/plain": [
       "<Figure size 432x288 with 1 Axes>"
      ]
     },
     "metadata": {
      "needs_background": "light"
     },
     "output_type": "display_data"
    }
   ],
   "source": [
    "vectx = np.array([3,6])                                    # Vector values\n",
    "vecty = np.array([1,2])                                    # Vector Values\n",
    "\n",
    "R = np.arange(-10,10,1)                                    # Creates a range from -10 to 10 with a step of 1\n",
    "c1, c2 = np.meshgrid(R,R)                                  # Creates a values with in the set range\n",
    "spanRx = c1*vectx[0] + c2*vecty[0]                         # Solving EQ\n",
    "spanRy = c1*vectx[1] + c2*vecty[1]\n",
    "\n",
    "\n",
    "plt.scatter(spanRx,spanRy, c=\"#ff1a75\", s=5, alpha=0.75)   # Plotting\n",
    "\n",
    "plt.axhline(y=0, color='k')                                # Adds horizontal line\n",
    "plt.axvline(x=0, color='k')                                # Adds vertical line\n",
    "plt.grid()                                                 # Adds grid to the plot\n",
    "plt.show()                                                 # Runs plot"
   ]
  },
  {
   "cell_type": "markdown",
   "metadata": {},
   "source": [
    "## Discussion Questions"
   ]
  },
  {
   "cell_type": "markdown",
   "metadata": {},
   "source": [
    "Append your discussion at the end of the results section of your report just before your conclusion. Try to answer the following questions. Do not forget to cite your sources."
   ]
  },
  {
   "cell_type": "markdown",
   "metadata": {},
   "source": [
    "$\\mathbb{R}$ It represent the number of dimension in an array, for $\\mathbb{R}=1$ it outputs a single line because its on a one dementional that only need one vector, another $\\mathbb{R}=2$ outputs two dimentional lines  and its on two dimentional plane that needs 2 vectors, same as  $\\mathbb{R}=3$ that needs two 3 vectors in three dimentions, while  $\\mathbb{R}=4,5,6...$ it is is possible but it must have vectors as he dimention goes on and visualizing it for us living in three dimentional space can't comprehend four dimentional space but us possible.\n",
    "<br>\n",
    "Unit vectors represented as $\\hat{x}$ which means a vector with a 1 magnitue also known as basis vector, while linear combinations is combination of vectors and scallars to create different equations using unit vectors it represent the position of the vectors relative to the plane, example $\\hat{x}$ it represent x-axis while $\\hat{y}$ represent y-axis another is $\\hat{z}$ that requires a third dimention or 3 vectors.\n",
    "\n"
   ]
  },
  {
   "cell_type": "markdown",
   "metadata": {},
   "source": [
    "## Conclusion guide"
   ]
  },
  {
   "cell_type": "markdown",
   "metadata": {},
   "source": [
    "For your conclusion synthesize the concept and application of the laboratory. Briefly discuss what you have learn and achieved in this activity. At the end of your conclusion try to answer the question : \"How can you apply the concept of linear combination in engineeing or real-life situations?\"."
   ]
  }
 ],
 "metadata": {
  "kernelspec": {
   "display_name": "Python 3",
   "language": "python",
   "name": "python3"
  },
  "language_info": {
   "codemirror_mode": {
    "name": "ipython",
    "version": 3
   },
   "file_extension": ".py",
   "mimetype": "text/x-python",
   "name": "python",
   "nbconvert_exporter": "python",
   "pygments_lexer": "ipython3",
   "version": "3.8.3"
  }
 },
 "nbformat": 4,
 "nbformat_minor": 4
}
