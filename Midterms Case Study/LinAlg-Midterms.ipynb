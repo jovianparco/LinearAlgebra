{
 "cells": [
  {
   "cell_type": "markdown",
   "metadata": {},
   "source": [
    "<h1>Linear Algebra (CpE210A)"
   ]
  },
  {
   "cell_type": "markdown",
   "metadata": {},
   "source": [
    "<h3>Midterms Project"
   ]
  },
  {
   "cell_type": "markdown",
   "metadata": {},
   "source": [
    "Coded and submitted by: <br>\n",
    "<i>Parco, Jovian Asher G.<br>\n",
    "    201911101 <br>\n",
    "   58010 </i>"
   ]
  },
  {
   "cell_type": "markdown",
   "metadata": {},
   "source": [
    "Directions\n",
    "This Jupyter Notebook will serve as your base code for your Midterm Project. You must further format and provide complete discussion on the given topic. \n",
    "- Provide all necessary explanations for specific code blocks. \n",
    "- Provide illustrations for key results.\n",
    "- Observe clean code (intuitive variable names, proper commenting, proper code spacing)\n",
    "- Provide a summary discussion at the end\n",
    "\n",
    "Failure to use this format or failure to update the document will be given a deduction equivalent to 50% of the original score. "
   ]
  },
  {
   "cell_type": "markdown",
   "metadata": {},
   "source": [
    "### Case"
   ]
  },
  {
   "cell_type": "markdown",
   "metadata": {},
   "source": [
    "Bebang is back to consult you about her business. Furthering her data analytics initiative she asks you for help to compute some relevant data. Now she is asking you to compute and visualize her sales and costs for the past year. She has given you the datasets attached to her request."
   ]
  },
  {
   "cell_type": "markdown",
   "metadata": {},
   "source": [
    "### Problem"
   ]
  },
  {
   "cell_type": "markdown",
   "metadata": {},
   "source": [
    "State and explain Bebang's problem here and provide the deliverables."
   ]
  },
  {
   "cell_type": "markdown",
   "metadata": {},
   "source": [
    "# Proof of Concept"
   ]
  },
  {
   "cell_type": "markdown",
   "metadata": {},
   "source": [
    "Now that you have a grasp on the requirements we need to start with making a program to prove that her problem is solvable. As a Linear Algebra student, we will be focusin on applying vector operations to meet her needs. First, we need to import her data. We will use the `pandas` library for this. For more information you can look into their documentation [here](https://pandas.pydata.org/)."
   ]
  },
  {
   "cell_type": "code",
   "execution_count": 1,
   "metadata": {},
   "outputs": [
    {
     "data": {
      "text/html": [
       "<div>\n",
       "<style scoped>\n",
       "    .dataframe tbody tr th:only-of-type {\n",
       "        vertical-align: middle;\n",
       "    }\n",
       "\n",
       "    .dataframe tbody tr th {\n",
       "        vertical-align: top;\n",
       "    }\n",
       "\n",
       "    .dataframe thead th {\n",
       "        text-align: right;\n",
       "    }\n",
       "</style>\n",
       "<table border=\"1\" class=\"dataframe\">\n",
       "  <thead>\n",
       "    <tr style=\"text-align: right;\">\n",
       "      <th></th>\n",
       "      <th>red velvet</th>\n",
       "      <th>oreo</th>\n",
       "      <th>sugar glazed</th>\n",
       "      <th>almond honey</th>\n",
       "      <th>matcha</th>\n",
       "      <th>strawberry cream</th>\n",
       "      <th>brown sugar boba</th>\n",
       "      <th>furits and nuts</th>\n",
       "      <th>dark chocolate</th>\n",
       "      <th>chocolate and orange</th>\n",
       "      <th>choco mint</th>\n",
       "      <th>choco butter naught</th>\n",
       "    </tr>\n",
       "  </thead>\n",
       "  <tbody>\n",
       "    <tr>\n",
       "      <th>price per piece</th>\n",
       "      <td>35</td>\n",
       "      <td>25</td>\n",
       "      <td>20</td>\n",
       "      <td>35</td>\n",
       "      <td>50</td>\n",
       "      <td>40</td>\n",
       "      <td>40</td>\n",
       "      <td>45</td>\n",
       "      <td>30</td>\n",
       "      <td>40</td>\n",
       "      <td>45</td>\n",
       "      <td>45</td>\n",
       "    </tr>\n",
       "    <tr>\n",
       "      <th>cost per piece</th>\n",
       "      <td>25</td>\n",
       "      <td>15</td>\n",
       "      <td>10</td>\n",
       "      <td>20</td>\n",
       "      <td>35</td>\n",
       "      <td>31</td>\n",
       "      <td>30</td>\n",
       "      <td>25</td>\n",
       "      <td>15</td>\n",
       "      <td>25</td>\n",
       "      <td>32</td>\n",
       "      <td>31</td>\n",
       "    </tr>\n",
       "  </tbody>\n",
       "</table>\n",
       "</div>"
      ],
      "text/plain": [
       "                 red velvet  oreo  sugar glazed  almond honey  matcha  \\\n",
       "price per piece          35    25            20            35      50   \n",
       "cost per piece           25    15            10            20      35   \n",
       "\n",
       "                 strawberry cream  brown sugar boba  furits and nuts  \\\n",
       "price per piece                40                40               45   \n",
       "cost per piece                 31                30               25   \n",
       "\n",
       "                 dark chocolate  chocolate and orange  choco mint  \\\n",
       "price per piece              30                    40          45   \n",
       "cost per piece               15                    25          32   \n",
       "\n",
       "                 choco butter naught  \n",
       "price per piece                   45  \n",
       "cost per piece                    31  "
      ]
     },
     "execution_count": 1,
     "metadata": {},
     "output_type": "execute_result"
    }
   ],
   "source": [
    "import pandas as pd\n",
    "\n",
    "## Adding variable with the name of the file being access\n",
    "file_prices = \"bebang prices.csv\" \n",
    "file_sales = \"bebang sales.csv\"\n",
    "\n",
    "## Importing to Python using Panda's library\n",
    "df_prices = pd.read_csv(file_prices, index_col=0) # Specifying the row name with a blank value  \n",
    "df_sales = pd.read_csv(file_sales)\n",
    "\n",
    "\n",
    "## Printing bebang Prices.csv\n",
    "df_prices"
   ]
  },
  {
   "cell_type": "code",
   "execution_count": 41,
   "metadata": {},
   "outputs": [
    {
     "data": {
      "text/html": [
       "<div>\n",
       "<style scoped>\n",
       "    .dataframe tbody tr th:only-of-type {\n",
       "        vertical-align: middle;\n",
       "    }\n",
       "\n",
       "    .dataframe tbody tr th {\n",
       "        vertical-align: top;\n",
       "    }\n",
       "\n",
       "    .dataframe thead th {\n",
       "        text-align: right;\n",
       "    }\n",
       "</style>\n",
       "<table border=\"1\" class=\"dataframe\">\n",
       "  <thead>\n",
       "    <tr style=\"text-align: right;\">\n",
       "      <th></th>\n",
       "      <th>flavor</th>\n",
       "      <th>january</th>\n",
       "      <th>february</th>\n",
       "      <th>march</th>\n",
       "      <th>april</th>\n",
       "      <th>may</th>\n",
       "      <th>june</th>\n",
       "      <th>july</th>\n",
       "      <th>august</th>\n",
       "      <th>september</th>\n",
       "      <th>october</th>\n",
       "      <th>november</th>\n",
       "      <th>december</th>\n",
       "      <th>total</th>\n",
       "    </tr>\n",
       "  </thead>\n",
       "  <tbody>\n",
       "    <tr>\n",
       "      <th>0</th>\n",
       "      <td>red velvet</td>\n",
       "      <td>781</td>\n",
       "      <td>524</td>\n",
       "      <td>364</td>\n",
       "      <td>157</td>\n",
       "      <td>894</td>\n",
       "      <td>56</td>\n",
       "      <td>89</td>\n",
       "      <td>41</td>\n",
       "      <td>23</td>\n",
       "      <td>78</td>\n",
       "      <td>231</td>\n",
       "      <td>899</td>\n",
       "      <td>4137</td>\n",
       "    </tr>\n",
       "    <tr>\n",
       "      <th>1</th>\n",
       "      <td>oreo</td>\n",
       "      <td>210</td>\n",
       "      <td>324</td>\n",
       "      <td>344</td>\n",
       "      <td>32</td>\n",
       "      <td>123</td>\n",
       "      <td>1</td>\n",
       "      <td>3</td>\n",
       "      <td>0</td>\n",
       "      <td>1</td>\n",
       "      <td>6</td>\n",
       "      <td>312</td>\n",
       "      <td>548</td>\n",
       "      <td>1904</td>\n",
       "    </tr>\n",
       "    <tr>\n",
       "      <th>2</th>\n",
       "      <td>sugar glazed</td>\n",
       "      <td>599</td>\n",
       "      <td>674</td>\n",
       "      <td>854</td>\n",
       "      <td>14</td>\n",
       "      <td>467</td>\n",
       "      <td>78</td>\n",
       "      <td>36</td>\n",
       "      <td>48</td>\n",
       "      <td>75</td>\n",
       "      <td>98</td>\n",
       "      <td>781</td>\n",
       "      <td>1602</td>\n",
       "      <td>5326</td>\n",
       "    </tr>\n",
       "    <tr>\n",
       "      <th>3</th>\n",
       "      <td>almond honey</td>\n",
       "      <td>124</td>\n",
       "      <td>112</td>\n",
       "      <td>114</td>\n",
       "      <td>23</td>\n",
       "      <td>198</td>\n",
       "      <td>12</td>\n",
       "      <td>32</td>\n",
       "      <td>41</td>\n",
       "      <td>23</td>\n",
       "      <td>36</td>\n",
       "      <td>300</td>\n",
       "      <td>566</td>\n",
       "      <td>1581</td>\n",
       "    </tr>\n",
       "    <tr>\n",
       "      <th>4</th>\n",
       "      <td>matcha</td>\n",
       "      <td>645</td>\n",
       "      <td>498</td>\n",
       "      <td>885</td>\n",
       "      <td>98</td>\n",
       "      <td>177</td>\n",
       "      <td>98</td>\n",
       "      <td>43</td>\n",
       "      <td>96</td>\n",
       "      <td>26</td>\n",
       "      <td>71</td>\n",
       "      <td>549</td>\n",
       "      <td>897</td>\n",
       "      <td>4083</td>\n",
       "    </tr>\n",
       "    <tr>\n",
       "      <th>5</th>\n",
       "      <td>strawberry cream</td>\n",
       "      <td>210</td>\n",
       "      <td>372</td>\n",
       "      <td>369</td>\n",
       "      <td>78</td>\n",
       "      <td>163</td>\n",
       "      <td>26</td>\n",
       "      <td>45</td>\n",
       "      <td>22</td>\n",
       "      <td>54</td>\n",
       "      <td>41</td>\n",
       "      <td>207</td>\n",
       "      <td>456</td>\n",
       "      <td>2043</td>\n",
       "    </tr>\n",
       "    <tr>\n",
       "      <th>6</th>\n",
       "      <td>brown sugar boba</td>\n",
       "      <td>981</td>\n",
       "      <td>380</td>\n",
       "      <td>154</td>\n",
       "      <td>14</td>\n",
       "      <td>147</td>\n",
       "      <td>15</td>\n",
       "      <td>98</td>\n",
       "      <td>33</td>\n",
       "      <td>23</td>\n",
       "      <td>36</td>\n",
       "      <td>552</td>\n",
       "      <td>633</td>\n",
       "      <td>3066</td>\n",
       "    </tr>\n",
       "    <tr>\n",
       "      <th>7</th>\n",
       "      <td>furits and nuts</td>\n",
       "      <td>478</td>\n",
       "      <td>462</td>\n",
       "      <td>354</td>\n",
       "      <td>49</td>\n",
       "      <td>89</td>\n",
       "      <td>0</td>\n",
       "      <td>1</td>\n",
       "      <td>0</td>\n",
       "      <td>1</td>\n",
       "      <td>8</td>\n",
       "      <td>335</td>\n",
       "      <td>214</td>\n",
       "      <td>1991</td>\n",
       "    </tr>\n",
       "    <tr>\n",
       "      <th>8</th>\n",
       "      <td>dark chocolate</td>\n",
       "      <td>598</td>\n",
       "      <td>203</td>\n",
       "      <td>36</td>\n",
       "      <td>96</td>\n",
       "      <td>789</td>\n",
       "      <td>4</td>\n",
       "      <td>5</td>\n",
       "      <td>0</td>\n",
       "      <td>8</td>\n",
       "      <td>0</td>\n",
       "      <td>789</td>\n",
       "      <td>458</td>\n",
       "      <td>2986</td>\n",
       "    </tr>\n",
       "    <tr>\n",
       "      <th>9</th>\n",
       "      <td>chocolate and orange</td>\n",
       "      <td>324</td>\n",
       "      <td>123</td>\n",
       "      <td>48</td>\n",
       "      <td>32</td>\n",
       "      <td>65</td>\n",
       "      <td>74</td>\n",
       "      <td>78</td>\n",
       "      <td>45</td>\n",
       "      <td>89</td>\n",
       "      <td>100</td>\n",
       "      <td>632</td>\n",
       "      <td>231</td>\n",
       "      <td>1841</td>\n",
       "    </tr>\n",
       "    <tr>\n",
       "      <th>10</th>\n",
       "      <td>choco mint</td>\n",
       "      <td>458</td>\n",
       "      <td>412</td>\n",
       "      <td>78</td>\n",
       "      <td>78</td>\n",
       "      <td>78</td>\n",
       "      <td>7</td>\n",
       "      <td>3</td>\n",
       "      <td>8</td>\n",
       "      <td>2</td>\n",
       "      <td>1</td>\n",
       "      <td>323</td>\n",
       "      <td>564</td>\n",
       "      <td>2012</td>\n",
       "    </tr>\n",
       "    <tr>\n",
       "      <th>11</th>\n",
       "      <td>choco butter naught</td>\n",
       "      <td>778</td>\n",
       "      <td>586</td>\n",
       "      <td>645</td>\n",
       "      <td>100</td>\n",
       "      <td>987</td>\n",
       "      <td>63</td>\n",
       "      <td>36</td>\n",
       "      <td>89</td>\n",
       "      <td>78</td>\n",
       "      <td>99</td>\n",
       "      <td>784</td>\n",
       "      <td>2310</td>\n",
       "      <td>6555</td>\n",
       "    </tr>\n",
       "  </tbody>\n",
       "</table>\n",
       "</div>"
      ],
      "text/plain": [
       "                  flavor  january  february  march  april  may  june  july  \\\n",
       "0             red velvet      781       524    364    157  894    56    89   \n",
       "1                   oreo      210       324    344     32  123     1     3   \n",
       "2           sugar glazed      599       674    854     14  467    78    36   \n",
       "3           almond honey      124       112    114     23  198    12    32   \n",
       "4                 matcha      645       498    885     98  177    98    43   \n",
       "5       strawberry cream      210       372    369     78  163    26    45   \n",
       "6       brown sugar boba      981       380    154     14  147    15    98   \n",
       "7        furits and nuts      478       462    354     49   89     0     1   \n",
       "8         dark chocolate      598       203     36     96  789     4     5   \n",
       "9   chocolate and orange      324       123     48     32   65    74    78   \n",
       "10            choco mint      458       412     78     78   78     7     3   \n",
       "11   choco butter naught      778       586    645    100  987    63    36   \n",
       "\n",
       "    august  september  october  november  december  total  \n",
       "0       41         23       78       231       899   4137  \n",
       "1        0          1        6       312       548   1904  \n",
       "2       48         75       98       781      1602   5326  \n",
       "3       41         23       36       300       566   1581  \n",
       "4       96         26       71       549       897   4083  \n",
       "5       22         54       41       207       456   2043  \n",
       "6       33         23       36       552       633   3066  \n",
       "7        0          1        8       335       214   1991  \n",
       "8        0          8        0       789       458   2986  \n",
       "9       45         89      100       632       231   1841  \n",
       "10       8          2        1       323       564   2012  \n",
       "11      89         78       99       784      2310   6555  "
      ]
     },
     "execution_count": 41,
     "metadata": {},
     "output_type": "execute_result"
    }
   ],
   "source": [
    "## Printing bebang sales.csv\n",
    "df_sales"
   ]
  },
  {
   "cell_type": "markdown",
   "metadata": {},
   "source": [
    "## Part 1: Monthly Sales"
   ]
  },
  {
   "cell_type": "code",
   "execution_count": 4,
   "metadata": {},
   "outputs": [
    {
     "name": "stdout",
     "output_type": "stream",
     "text": [
      "(12, 12)\n",
      "(12, 1)\n",
      "(12, 1)\n"
     ]
    }
   ],
   "source": [
    "import numpy as np\n",
    "\n",
    "sales_mat = np.array(df_sales.set_index('flavor'))  # Vecotorize data\n",
    "prices_mat = np.array(df_prices)[0].reshape((12,1)) # Vectorize data with 12 row and 1 column\n",
    "costs_mat = np.array(df_prices)[1].reshape((12,1))  # Vectorize data with 12 row and 1 column\n",
    "\n",
    "\n",
    "## Printing shapes of the vector\n",
    "print(sales_mat.shape)\n",
    "print(prices_mat.shape)\n",
    "print(costs_mat.shape)\n",
    "\n",
    "# Expected Output\n",
    "# (12, 12)\n",
    "# (12, 1)\n",
    "# (12, 1)"
   ]
  },
  {
   "cell_type": "markdown",
   "metadata": {},
   "source": [
    "#### Formulas"
   ]
  },
  {
   "cell_type": "markdown",
   "metadata": {},
   "source": [
    "Take note that the fomula for revenue is: <br>\n",
    "$revenue = sales * price $ <br>\n",
    "In this case, think that revenue, sales, and price are vectors instead of individual values <br>\n",
    "The formula of cost per item sold is: <br>\n",
    "$cost_{sold} = sales * cost$ <br>\n",
    "The formula for profit is: <br>\n",
    "$profit = revenue - cost_{sold}$ <br>\n",
    "Solving for the monthly profit will be the sum of all profits made on that month."
   ]
  },
  {
   "cell_type": "code",
   "execution_count": 5,
   "metadata": {},
   "outputs": [],
   "source": [
    "## Function that Computes Monthly Sales\n",
    "def monthly_sales(price, cost, sales):                                                   # Function that Inputs Three Parameters\n",
    "    monthly_revenue = np.multiply(sales,price)                                           # Solving monthly revenue\n",
    "    monthly_costs = np.multiply(sales,cost)                                              # Solving monthly cost\n",
    "    monthly_profits =monthly_revenue - monthly_costs                                     # Solving monthly profits\n",
    "    return monthly_revenue.flatten(), monthly_costs.flatten(), monthly_profits.flatten() # Outputs as one dimensional array"
   ]
  },
  {
   "cell_type": "code",
   "execution_count": 6,
   "metadata": {},
   "outputs": [
    {
     "name": "stdout",
     "output_type": "stream",
     "text": [
      "Monthly Revenue:\n",
      " [ 27335  18340  12740   5495  31290   1960   3115   1435    805   2730\n",
      "   8085  31465   5250   8100   8600    800   3075     25     75      0\n",
      "     25    150   7800  13700  11980  13480  17080    280   9340   1560\n",
      "    720    960   1500   1960  15620  32040   4340   3920   3990    805\n",
      "   6930    420   1120   1435    805   1260  10500  19810  32250  24900\n",
      "  44250   4900   8850   4900   2150   4800   1300   3550  27450  44850\n",
      "   8400  14880  14760   3120   6520   1040   1800    880   2160   1640\n",
      "   8280  18240  39240  15200   6160    560   5880    600   3920   1320\n",
      "    920   1440  22080  25320  21510  20790  15930   2205   4005      0\n",
      "     45      0     45    360  15075   9630  17940   6090   1080   2880\n",
      "  23670    120    150      0    240      0  23670  13740  12960   4920\n",
      "   1920   1280   2600   2960   3120   1800   3560   4000  25280   9240\n",
      "  20610  18540   3510   3510   3510    315    135    360     90     45\n",
      "  14535  25380  35010  26370  29025   4500  44415   2835   1620   4005\n",
      "   3510   4455  35280 103950]\n",
      "\n",
      "Monthly Cost:\n",
      " [19525 13100  9100  3925 22350  1400  2225  1025   575  1950  5775 22475\n",
      "  3150  4860  5160   480  1845    15    45     0    15    90  4680  8220\n",
      "  5990  6740  8540   140  4670   780   360   480   750   980  7810 16020\n",
      "  2480  2240  2280   460  3960   240   640   820   460   720  6000 11320\n",
      " 22575 17430 30975  3430  6195  3430  1505  3360   910  2485 19215 31395\n",
      "  6510 11532 11439  2418  5053   806  1395   682  1674  1271  6417 14136\n",
      " 29430 11400  4620   420  4410   450  2940   990   690  1080 16560 18990\n",
      " 11950 11550  8850  1225  2225     0    25     0    25   200  8375  5350\n",
      "  8970  3045   540  1440 11835    60    75     0   120     0 11835  6870\n",
      "  8100  3075  1200   800  1625  1850  1950  1125  2225  2500 15800  5775\n",
      " 14656 13184  2496  2496  2496   224    96   256    64    32 10336 18048\n",
      " 24118 18166 19995  3100 30597  1953  1116  2759  2418  3069 24304 71610]\n",
      "\n",
      "Monthly Profits:\n",
      " [ 7810  5240  3640  1570  8940   560   890   410   230   780  2310  8990\n",
      "  2100  3240  3440   320  1230    10    30     0    10    60  3120  5480\n",
      "  5990  6740  8540   140  4670   780   360   480   750   980  7810 16020\n",
      "  1860  1680  1710   345  2970   180   480   615   345   540  4500  8490\n",
      "  9675  7470 13275  1470  2655  1470   645  1440   390  1065  8235 13455\n",
      "  1890  3348  3321   702  1467   234   405   198   486   369  1863  4104\n",
      "  9810  3800  1540   140  1470   150   980   330   230   360  5520  6330\n",
      "  9560  9240  7080   980  1780     0    20     0    20   160  6700  4280\n",
      "  8970  3045   540  1440 11835    60    75     0   120     0 11835  6870\n",
      "  4860  1845   720   480   975  1110  1170   675  1335  1500  9480  3465\n",
      "  5954  5356  1014  1014  1014    91    39   104    26    13  4199  7332\n",
      " 10892  8204  9030  1400 13818   882   504  1246  1092  1386 10976 32340]\n"
     ]
    }
   ],
   "source": [
    "## Calling monthly_sales() Function with Three Argumments\n",
    "month_rev, month_cost, month_profit = monthly_sales(prices_mat, costs_mat, sales_mat)\n",
    "\n",
    "## print the values\n",
    "print(f\"Monthly Revenue:\\n {month_rev}\\n\")\n",
    "print(f\"Monthly Cost:\\n {month_cost}\\n\")\n",
    "print(f\"Monthly Profits:\\n {month_profit}\")"
   ]
  },
  {
   "cell_type": "markdown",
   "metadata": {},
   "source": [
    "## Part 2: Flavor Sales"
   ]
  },
  {
   "cell_type": "code",
   "execution_count": 7,
   "metadata": {},
   "outputs": [],
   "source": [
    "## Function that Computes Yearly Sales with Respect to Flavors\n",
    "def flavor_sales(price, cost, sales):                 # Function that Inputs Three Parameters\n",
    "    flavor_revenue = np.dot(sales,price)              # solving revenue \n",
    "    flavor_costs = np.dot(sales,cost)                 # solving costs\n",
    "    flavor_profits = flavor_revenue - flavor_costs    # solving profits\n",
    "    return flavor_profits.flatten()                   # Outputs as one dimensional array\n"
   ]
  },
  {
   "cell_type": "code",
   "execution_count": 43,
   "metadata": {},
   "outputs": [
    {
     "name": "stdout",
     "output_type": "stream",
     "text": [
      "Profits by flavor in a year:\n",
      "[51773 22977 65683 20772 48787 24749 36263 22506 38520 23036 24213 84289]\n"
     ]
    }
   ],
   "source": [
    "## Calling flavor_profit() Function with Three Argumments\n",
    "flavor_profit = flavor_sales(prices_mat, costs_mat, sales_mat)\n",
    "\n",
    "## print the values\n",
    "print(f\"Profits by flavor in a year:\\n{flavor_profit}\")"
   ]
  },
  {
   "cell_type": "code",
   "execution_count": 88,
   "metadata": {},
   "outputs": [
    {
     "name": "stdout",
     "output_type": "stream",
     "text": [
      "Top 3 flavors:\n",
      "               flavor  total\n",
      " choco butter naught   6555\n",
      "        sugar glazed   5326\n",
      "          red velvet   4137 \n",
      "\n",
      "Worst 3 flavors:\n",
      "                flavor  total\n",
      "                 oreo   1904\n",
      " chocolate and orange   1841\n",
      "         almond honey   1581\n"
     ]
    }
   ],
   "source": [
    "## Creating New Column of the Sum of Monthly Sales\n",
    "df_sales[\"total\"]= df_sales[\"january\"] + df_sales[\"february\"] + df_sales[\"march\"] + df_sales[\"april\"] + df_sales[\"may\"] + df_sales[\"june\"] + df_sales[\"july\"] + df_sales[\"august\"] + df_sales[\"september\"] + df_sales[\"october\"] + df_sales[\"november\"] + df_sales[\"december\"] \n",
    "\n",
    "##Sorting Values of\n",
    "sorted_sales_flavor = df_sales.sort_values([\"total\"], ascending = False, ignore_index=True)\n",
    "\n",
    "##Identifying Top & Bottom Values\n",
    "best_3_flavors = sorted_sales_flavor[[\"flavor\",\"total\"]].head(3)\n",
    "worst_3_flavors = sorted_sales_flavor[[\"flavor\",\"total\"]].tail(3)\n",
    "\n",
    "## Removing Index\n",
    "worst_3_flavors = worst_3_flavors.to_string(index=False)\n",
    "best_3_flavors = best_3_flavors.to_string(index=False)\n",
    "\n",
    "## Printing Results\n",
    "print(\"Top 3 flavors:\\n\",best_3_flavors,\"\\n\")\n",
    "print(\"Worst 3 flavors:\\n\",worst_3_flavors)\n",
    "\n"
   ]
  },
  {
   "cell_type": "markdown",
   "metadata": {},
   "source": [
    "## Part 3: Visualizing the Data (Optional for +40%)\n",
    "You can try to visualize the data in the most comprehensible chart that you can use."
   ]
  },
  {
   "cell_type": "code",
   "execution_count": 10,
   "metadata": {},
   "outputs": [],
   "source": [
    "import matplotlib.pyplot as plt\n",
    "import matplotlib\n",
    "import seaborn as sns\n",
    "\n",
    "%matplotlib inline"
   ]
  },
  {
   "cell_type": "markdown",
   "metadata": {},
   "source": [
    "#### Entire Dataset"
   ]
  },
  {
   "cell_type": "code",
   "execution_count": null,
   "metadata": {},
   "outputs": [],
   "source": [
    "None"
   ]
  },
  {
   "cell_type": "markdown",
   "metadata": {},
   "source": [
    "None Monthly Sales"
   ]
  },
  {
   "cell_type": "code",
   "execution_count": 90,
   "metadata": {},
   "outputs": [],
   "source": [
    "None"
   ]
  },
  {
   "cell_type": "markdown",
   "metadata": {},
   "source": [
    "#### Flavor Sales"
   ]
  },
  {
   "cell_type": "code",
   "execution_count": 91,
   "metadata": {},
   "outputs": [],
   "source": [
    "None"
   ]
  },
  {
   "cell_type": "markdown",
   "metadata": {},
   "source": [
    "## Part 4: Business Recommendation and Conclusion"
   ]
  },
  {
   "cell_type": "markdown",
   "metadata": {},
   "source": [
    "The researcher concludes that the worst 3 product is Oreo with a total sales of 1904, chocolate and orange with a total sales of 1841, and almond honey with a  total sales of 1581 recommends to remove it in the shop or to sell it by seasons.\n",
    "<BR>\n",
    "The researcher also recommends pricing the top-selling product Red Velvet and Oreo for about 10 pesos more, and  Choco Butter Naught increase for 1 peso, which increases the overall profit."
   ]
  }
 ],
 "metadata": {
  "kernelspec": {
   "display_name": "Python 3",
   "language": "python",
   "name": "python3"
  },
  "language_info": {
   "codemirror_mode": {
    "name": "ipython",
    "version": 3
   },
   "file_extension": ".py",
   "mimetype": "text/x-python",
   "name": "python",
   "nbconvert_exporter": "python",
   "pygments_lexer": "ipython3",
   "version": "3.8.3"
  }
 },
 "nbformat": 4,
 "nbformat_minor": 4
}
